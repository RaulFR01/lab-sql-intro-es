{
 "cells": [
  {
   "cell_type": "markdown",
   "metadata": {},
   "source": [
    "/*sentencia 1*/\n",
    "\n",
    "SELECT COMPLAINT_TYPE, count(UNIQUE_KEY) from nyc_info GROUP BY COMPLAINT_TYPE ORDER BY count(UNIQUE_KEY) DESC LIMIT 5;\n",
    "\n",
    "/*sentencia 2*/\n",
    "\n",
    "\n",
    "SELECT CITY, COUNT(UNIQUE_KEY) FROM NYC_INFO GROUP BY CITY ORDER BY COUNT(UNIQUE_KEY) DESC;\n",
    "\n",
    "\n",
    "/*sentencia 3*/\n",
    "\n",
    "SELECT COMPLAINT_TYPE, count(UNIQUE_KEY) from nyc_info GROUP BY COMPLAINT_TYPE HAVING count(UNIQUE_KEY) > 1000;\n",
    "\n",
    "/*sentencia 4*/\n",
    "\n",
    "SELECT CITY, COUNT(UNIQUE_KEY) FROM NYC_INFO WHERE CITY = 'MANHATTAN' GROUP BY CITY ORDER BY COUNT(UNIQUE_KEY) DESC;"
   ]
  }
 ],
 "metadata": {
  "language_info": {
   "name": "python"
  }
 },
 "nbformat": 4,
 "nbformat_minor": 2
}
